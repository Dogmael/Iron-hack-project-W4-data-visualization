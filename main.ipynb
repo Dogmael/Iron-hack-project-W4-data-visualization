{
 "cells": [
  {
   "cell_type": "markdown",
   "metadata": {},
   "source": [
    "https://www.kaggle.com/datasets/michaelbryantds/carnivorous-diets\n",
    "\n",
    "https://trello.com/b/H1LsB1I6/iron-hack-project-w4-data-visualization"
   ]
  },
  {
   "cell_type": "code",
   "execution_count": 1,
   "metadata": {},
   "outputs": [],
   "source": [
    "import pandas as pd\n"
   ]
  },
  {
   "cell_type": "code",
   "execution_count": 2,
   "metadata": {},
   "outputs": [
    {
     "name": "stderr",
     "output_type": "stream",
     "text": [
      "/var/folders/wm/d5dlldtd761c3pdx78hpgpg40000gn/T/ipykernel_10201/170039792.py:1: DtypeWarning: Columns (41) have mixed types. Specify dtype option on import or set low_memory=False.\n",
      "  data = pd.read_csv(\"data/carnivorous_diet.csv\", encoding = \"ISO-8859-1\")\n"
     ]
    }
   ],
   "source": [
    "data = pd.read_csv(\"data/carnivorous_diet.csv\", encoding = \"ISO-8859-1\")\n",
    "metadata_df = pd.read_excel(\"data/metadata.xlsx\")"
   ]
  },
  {
   "cell_type": "markdown",
   "metadata": {},
   "source": [
    "### Dataset presentation\n",
    "Data on the diet compositions for 103 species of terrestrial, carnivorous mammals. The data is comming from (mostly) peer-reviewed scientific papers. Each of its 29,000+ rows represents a “diet record,” describing a component of the species’ consumption, for a particular population, geography, and study.\n",
    "<br/>\n",
    "This dataset was originaly published with a scientific article in \"Global ecology and biogeography\" peer-review journal (https://doi.org/10.1111/geb.13296).\n",
    "\n",
    "\n"
   ]
  },
  {
   "cell_type": "markdown",
   "metadata": {},
   "source": [
    "### Plots ideas\n",
    "\n",
    "- Nombre d'enregistrement pour chaque espèces\n",
    "- Le nombre de nourritues (foodtype) différentes mangé pour chaque espèce\n",
    "- Repartition des espèces en ordes et famille : treemaps,  sunburst charts (https://towardsdatascience.com/visualize-hierarchical-data-using-plotly-and-datapane-7e5abe2686e1) <br/>\n",
    "- Reproduire celui les figures (a) et (b) de l'article. <br/>\n",
    "- La répartition des régimes alimentaires des mammifères carnivores en pourcentage\n",
    "- Evoloution des régimes alimentaires dans le temps "
   ]
  },
  {
   "cell_type": "markdown",
   "metadata": {},
   "source": [
    "### Mapping libraries\n",
    "\n",
    "**Geopandas** (Pandas extended to support geographical data and algorithms -> NOT a visualization librairy)\n",
    "\n",
    "Critère de choix : besoin d'interactovité ou pas ? \n",
    "\n",
    "Based on matplotlib (https://matplotlib.org/mpl-third-party/) : \n",
    "- **Cartopy**\n",
    "- **EOmaps** (A library to create interactive maps of geographical datasets)\n",
    "- **Geoplot** (High-level Python geospatial plotting library based on Cartopy.)\n",
    "\n",
    "Non based on matplotlib (plus puissante, surement trop pour notre utilisation, et pas basés sur matplotlib -> on va utiliser autre choses) : \n",
    "- **Folium** (https://geopandas.org/en/stable/gallery/plotting_with_folium.html)\n",
    "- **Plotly** (https://plotly.com/python/mapbox-layers/)"
   ]
  }
 ],
 "metadata": {
  "kernelspec": {
   "display_name": "bootcamp",
   "language": "python",
   "name": "python3"
  },
  "language_info": {
   "codemirror_mode": {
    "name": "ipython",
    "version": 3
   },
   "file_extension": ".py",
   "mimetype": "text/x-python",
   "name": "python",
   "nbconvert_exporter": "python",
   "pygments_lexer": "ipython3",
   "version": "3.10.10"
  },
  "orig_nbformat": 4
 },
 "nbformat": 4,
 "nbformat_minor": 2
}
